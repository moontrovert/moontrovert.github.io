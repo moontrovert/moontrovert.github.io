{
 "cells": [
  {
   "cell_type": "code",
   "execution_count": 2,
   "id": "28bca725",
   "metadata": {},
   "outputs": [
    {
     "name": "stdout",
     "output_type": "stream",
     "text": [
      "Movies with more than one audio option:\n",
      "          Main Genre  Movie Count\n",
      "0             Action          257\n",
      "1              Anime           46\n",
      "2             Comedy          570\n",
      "3        Documentary          317\n",
      "4              Drama          529\n",
      "5            Fantasy           21\n",
      "6         Friendship            1\n",
      "7             Horror          106\n",
      "8               Kids          244\n",
      "9              Music           10\n",
      "10           Musical            3\n",
      "11        Reality TV            3\n",
      "12           Romance          119\n",
      "13            Sci-Fi           55\n",
      "14  Special Interest            1\n",
      "15            Sports            3\n",
      "16         Talk Show            3\n",
      "17          Thriller          141\n",
      "18        Variety TV            1\n",
      "19           Western            3\n",
      "\n",
      "Movies with exactly one audio option:\n",
      "          Main Genre  Movie Count\n",
      "0             Action          197\n",
      "1              Anime           18\n",
      "2             Comedy          379\n",
      "3        Documentary           37\n",
      "4              Drama          409\n",
      "5            Fantasy            9\n",
      "6             Horror           74\n",
      "7               Kids           12\n",
      "8              Music           15\n",
      "9            Musical            1\n",
      "10           Romance           99\n",
      "11            Sci-Fi            5\n",
      "12  Special Interest            3\n",
      "13          Thriller           75\n",
      "14        Variety TV            1\n"
     ]
    }
   ],
   "source": [
    "import pandas as pd\n",
    "\n",
    "def count_movies_with_multiple_audio_by_genre(csv_file_path):\n",
    "    # Read the CSV\n",
    "    df = pd.read_csv(\"Netflix_Data_new.csv\")\n",
    "    \n",
    "    # Drop rows with missing values in the relevant columns\n",
    "    df = df.dropna(subset=[\"Original Audio\", \"Main Genre\"])\n",
    "    \n",
    "    # Define a condition for more than one audio option (comma-separated)\n",
    "    df['Audio Count'] = df['Original Audio'].apply(lambda x: len(x.split(',')))\n",
    "    \n",
    "    # Filter rows where there's more than one audio option\n",
    "    multi_audio_df = df[df['Audio Count'] > 1]\n",
    "    \n",
    "    # Group by 'Main Genre' and count\n",
    "    result = multi_audio_df.groupby('Main Genre').size().reset_index(name='Movie Count')\n",
    "    \n",
    "    return result\n",
    "\n",
    "def count_movies_with_single_audio_by_genre(csv_file_path):\n",
    "    df = pd.read_csv(\"Netflix_Data_new.csv\")\n",
    "    df = df.dropna(subset=[\"Original Audio\", \"Main Genre\"])\n",
    "    df['Audio Count'] = df['Original Audio'].apply(lambda x: len(x.split(',')))\n",
    "    single_audio_df = df[df['Audio Count'] == 1]\n",
    "    result = single_audio_df.groupby('Main Genre').size().reset_index(name='Movie Count')\n",
    "    return result\n",
    "multi_audio = count_movies_with_multiple_audio_by_genre(\"Netflix_Data_new.csv\")\n",
    "single_audio = count_movies_with_single_audio_by_genre(\"Netflix_Data_new.csv\")\n",
    "\n",
    "print(\"Movies with more than one audio option:\")\n",
    "print(multi_audio)\n",
    "\n",
    "print(\"\\nMovies with exactly one audio option:\")\n",
    "print(single_audio)\n"
   ]
  },
  {
   "cell_type": "code",
   "execution_count": 3,
   "id": "b16d24ca",
   "metadata": {},
   "outputs": [
    {
     "name": "stdout",
     "output_type": "stream",
     "text": [
      "          Main Genre  Movie Count\n",
      "0             Action          257\n",
      "1              Anime           46\n",
      "2             Comedy          570\n",
      "3        Documentary          317\n",
      "4              Drama          529\n",
      "5            Fantasy           21\n",
      "6         Friendship            1\n",
      "7             Horror          106\n",
      "8               Kids          244\n",
      "9              Music           10\n",
      "10           Musical            3\n",
      "11        Reality TV            3\n",
      "12           Romance          119\n",
      "13            Sci-Fi           55\n",
      "14  Special Interest            1\n",
      "15            Sports            3\n",
      "16         Talk Show            3\n",
      "17          Thriller          141\n",
      "18        Variety TV            1\n",
      "19           Western            3\n"
     ]
    }
   ],
   "source": [
    "result_df = count_movies_with_multiple_audio_by_genre(\"Netflix_Data_new.csv\")\n",
    "print(result_df)\n"
   ]
  },
  {
   "cell_type": "code",
   "execution_count": 4,
   "id": "7f12da86",
   "metadata": {},
   "outputs": [
    {
     "name": "stdout",
     "output_type": "stream",
     "text": [
      "Requirement already satisfied: pandas in c:\\users\\tofah\\appdata\\roaming\\python\\python312\\site-packages (2.2.3)\n",
      "Requirement already satisfied: matplotlib in c:\\users\\tofah\\appdata\\roaming\\python\\python312\\site-packages (3.9.2)\n",
      "Requirement already satisfied: seaborn in c:\\users\\tofah\\anaconda3\\lib\\site-packages (0.13.2)\n",
      "Requirement already satisfied: plotly in c:\\users\\tofah\\anaconda3\\lib\\site-packages (5.24.1)\n",
      "Requirement already satisfied: numpy>=1.26.0 in c:\\users\\tofah\\appdata\\roaming\\python\\python312\\site-packages (from pandas) (1.26.4)\n",
      "Requirement already satisfied: python-dateutil>=2.8.2 in c:\\users\\tofah\\appdata\\roaming\\python\\python312\\site-packages (from pandas) (2.9.0.post0)\n",
      "Requirement already satisfied: pytz>=2020.1 in c:\\users\\tofah\\appdata\\roaming\\python\\python312\\site-packages (from pandas) (2024.2)\n",
      "Requirement already satisfied: tzdata>=2022.7 in c:\\users\\tofah\\appdata\\roaming\\python\\python312\\site-packages (from pandas) (2024.2)\n",
      "Requirement already satisfied: contourpy>=1.0.1 in c:\\users\\tofah\\appdata\\roaming\\python\\python312\\site-packages (from matplotlib) (1.3.0)\n",
      "Requirement already satisfied: cycler>=0.10 in c:\\users\\tofah\\appdata\\roaming\\python\\python312\\site-packages (from matplotlib) (0.12.1)\n",
      "Requirement already satisfied: fonttools>=4.22.0 in c:\\users\\tofah\\appdata\\roaming\\python\\python312\\site-packages (from matplotlib) (4.54.1)\n",
      "Requirement already satisfied: kiwisolver>=1.3.1 in c:\\users\\tofah\\appdata\\roaming\\python\\python312\\site-packages (from matplotlib) (1.4.7)\n",
      "Requirement already satisfied: packaging>=20.0 in c:\\users\\tofah\\appdata\\roaming\\python\\python312\\site-packages (from matplotlib) (24.2)\n",
      "Requirement already satisfied: pillow>=8 in c:\\users\\tofah\\appdata\\roaming\\python\\python312\\site-packages (from matplotlib) (11.0.0)\n",
      "Requirement already satisfied: pyparsing>=2.3.1 in c:\\users\\tofah\\appdata\\roaming\\python\\python312\\site-packages (from matplotlib) (3.2.0)\n",
      "Requirement already satisfied: tenacity>=6.2.0 in c:\\users\\tofah\\appdata\\roaming\\python\\python312\\site-packages (from plotly) (9.0.0)\n",
      "Requirement already satisfied: six>=1.5 in c:\\users\\tofah\\appdata\\roaming\\python\\python312\\site-packages (from python-dateutil>=2.8.2->pandas) (1.16.0)\n"
     ]
    },
    {
     "name": "stderr",
     "output_type": "stream",
     "text": [
      "\n",
      "[notice] A new release of pip is available: 24.3.1 -> 25.0.1\n",
      "[notice] To update, run: python.exe -m pip install --upgrade pip\n"
     ]
    }
   ],
   "source": [
    "!pip install pandas matplotlib seaborn plotly\n",
    "\n"
   ]
  },
  {
   "cell_type": "code",
   "execution_count": 6,
   "id": "0b99875a",
   "metadata": {},
   "outputs": [
    {
     "name": "stdout",
     "output_type": "stream",
     "text": [
      "✅ Saved as genre_audio_recommendations.csv\n"
     ]
    }
   ],
   "source": [
    "import pandas as pd\n",
    "\n",
    "# Load CSV\n",
    "df = pd.read_csv(\"Netflix_Data_new.csv\")\n",
    "\n",
    "# Drop missing values\n",
    "df = df.dropna(subset=[\"Original Audio\", \"Main Genre\"])\n",
    "\n",
    "# Count number of audio languages\n",
    "df[\"Audio Count\"] = df[\"Original Audio\"].apply(lambda x: len(x.split(\",\")))\n",
    "\n",
    "# Count Single Audio Recommendations per Genre\n",
    "single_audio = df[df[\"Audio Count\"] == 1]\n",
    "single_count = single_audio.groupby(\"Main Genre\").size().reset_index(name=\"Single Audio Recs\")\n",
    "\n",
    "# Count Multi Audio Recommendations per Genre\n",
    "multi_audio = df[df[\"Audio Count\"] > 1]\n",
    "multi_count = multi_audio.groupby(\"Main Genre\").size().reset_index(name=\"Multi Audio Recs\")\n",
    "\n",
    "# Merge results\n",
    "final = pd.merge(single_count, multi_count, on=\"Main Genre\", how=\"outer\").fillna(0)\n",
    "final[\"Single Audio Recs\"] = final[\"Single Audio Recs\"].astype(int)\n",
    "final[\"Multi Audio Recs\"] = final[\"Multi Audio Recs\"].astype(int)\n",
    "\n",
    "# Save to CSV\n",
    "final.to_csv(\"genre_audio_recommendations.csv\", index=False)\n",
    "print(\"✅ Saved as genre_audio_recommendations.csv\")\n"
   ]
  }
 ],
 "metadata": {
  "kernelspec": {
   "display_name": "base",
   "language": "python",
   "name": "python3"
  },
  "language_info": {
   "codemirror_mode": {
    "name": "ipython",
    "version": 3
   },
   "file_extension": ".py",
   "mimetype": "text/x-python",
   "name": "python",
   "nbconvert_exporter": "python",
   "pygments_lexer": "ipython3",
   "version": "3.12.7"
  }
 },
 "nbformat": 4,
 "nbformat_minor": 5
}
