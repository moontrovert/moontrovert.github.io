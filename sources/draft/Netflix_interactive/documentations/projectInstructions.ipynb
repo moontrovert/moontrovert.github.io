{
 "cells": [
  {
   "cell_type": "markdown",
   "metadata": {},
   "source": [
    "# Project Submission COMP 6934 W25\n",
    "\n",
    "Your term project will be visualization designs for a selected dataset presented in the style of a jupyter notebook, with notes, code and visualizations interspersed throughout. The report should be written as a study of the datatset, taking us step by step through an explorations that culminates in vis designs and conclusions about the designs.\n",
    "\n",
    "You should include any commentary, observations and explanations relevant to your exploration of the dataset, and not restrict your notes to the specific report elements mentioned below.\n",
    "\n",
    "Make sure you indicate throughout your report which parts of the report are your original work and which parts are taken from sources.  Without this distinction, it is assumed that your are claiming authorship to everything unless you indicate otherwise.  Copying work without attribution is considered academic misconduct and will be treated as such according to university regulations.\n",
    "\n",
    "The submission may be a combination of jupyter notebook(s) and html page sources. <mark>Note that</mark> datasets over 2M in size should not be included in the submission drop-box. Provide an external URL link for the marker to access such large datasets.\n",
    "\n",
    "Your report should include (but not be restricted to) the following sections:\n",
    "### 1 Introduction\n",
    "* Describe:\n",
    "    * the general area of study (the topics of the data)\n",
    "    * the specific data sources used in the project\n",
    "        * what each dataset is about and how it was gathered\n",
    "    * how to access the data source for examination (extra large data sets over 2MB should not be submitted in the project dropbox, but accessed through a remote URL of some kind.)\n",
    "    * the client (real or imaginary) and their interest in the data\n",
    "    * the state of the final submission - what is included in the submission and what the viewer should expect to see. If anything is missing, let the marker know\n",
    "* Code execution instructions - if there is any setup or special packages needed for the project, provide instructions on how to activate and use your code and visuializations.\n",
    "### 2 Dataset details\n",
    "* Any preliminary examination of the data or data cleaning  \n",
    "* Further description of the data if necessary\n",
    "* A complete Munzner WHAT analysis for all data items used in the project.\n",
    "* Additional observations or techniques for curating the data sets\n",
    "### 3 Project goals and objectives\n",
    "* Pose a minimum of three questions on behalf of the client for the purpose of capturing the possible interest in the data set\n",
    "* For each question apply a Munzner WHY analysis resulting in multiple action/target pairs.\n",
    "* Help marker understand the semantics of the action/target pairs as appropriate.\n",
    "* Provide other insight into the project objectives (as articulated in the questions) if the analysis is insufficient.\n",
    "### 4 Initial data analysis\n",
    "* Statistical information and preliminary visuals may help explore the data further to derive additional data, prepare for a HOW analysis or study what might be effective for the project goals. This type of activity can be appropriate at various other stages in the study, as long as you indicate how it fits into the methodology and the sections of this report.\n",
    "### 5 Visualization design choices\n",
    "* A complete HOW analysis under Munzner's methods, driven by eariler WHAT and WHY results and referencing back to the earlier goals and objectives\n",
    "* You do not necessaily have to address every action/target from the WHY analysis\n",
    "* Produce and implement the three designs\n",
    "   * Describe the HOW methods applied in the design\n",
    "   * Identify and justify the choice of idioms and channels/marks based on your what/why and how analyses. This includes channels that are already included in a well known idiom.\n",
    "   * Include additional discussion outside Munzner's methods that you may have used for design. You may have other inspirations, methodology or sources of ideas that influence your designs.\n",
    "   * Idioms and examples used as a source of ideas should be discussed. Also reference them in the attributions section \n",
    "   * Each design should express some originality. Designs that are simply copies of code that can you can harvest from the internet and only change the data set will not recieve a strong grade. If you use such visualizations, you may also include a version that includes an extension or modification authored by you. top marks. \n",
    "   * At least one of the visualizations should demonstrate an original design incorporating animation or interaction in a creative manner. Do not be afraid to risk a poor outcome with a new design idea.\n",
    "   * After each visualization, comment on (1) how successfully it addresses its specific goals (2) pros and cons of the design in terms of its usefulness, usability and user perception (3) any improvements or adaptations to the design that you would suggest.       \n",
    "* Note you are not restricted to three visualizations. You may have additional visualizations in the initial data analysis, or in the design section. As an initial design step, as you may wish to show existing code solutions and idioms before you embellish and extend them with your own design elements. Make sure you indicate which of the visualizations is to be included as one the three for specific grading. \n",
    "### 6. Conclusions\n",
    "Write conclusions about the visualization project under the following topics:\n",
    "* Success: How successful was the project in addressing its goals and objectives? This may reprise and combine some of the conclusions about the individual designs from the previous section.\n",
    "* Methodology: How useful was the Munzner methodology? Were some elements of her approach more helpful than others, and why? Would you revise any of your methodology if you had to do it again?\n",
    "* Improvements: What would you do differently if you have a chance to improve your project?"
   ]
  },
  {
   "cell_type": "markdown",
   "metadata": {},
   "source": [
    "# Attributions\n",
    "\n",
    "Be sure to add your own sources or indicate you have none to add.  Sources can be web sites, text materials, and so on. They do not have to be hyperlinks. Other people are also sources.\n",
    "\n",
    "| Source | What is it | How used |\n",
    "|--|--|--|\n",
    "| source goes here | information, analysis ideas, data, code, plots are examples.   | did you copy content, use suggestions, or follow a strategy, and where in your submission does it appear"
   ]
  }
 ],
 "metadata": {
  "kernelspec": {
   "display_name": "Python 3 (ipykernel)",
   "language": "python",
   "name": "python3"
  },
  "language_info": {
   "codemirror_mode": {
    "name": "ipython",
    "version": 3
   },
   "file_extension": ".py",
   "mimetype": "text/x-python",
   "name": "python",
   "nbconvert_exporter": "python",
   "pygments_lexer": "ipython3",
   "version": "3.12.3"
  }
 },
 "nbformat": 4,
 "nbformat_minor": 4
}
